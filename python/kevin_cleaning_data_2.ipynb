{
 "cells": [
  {
   "cell_type": "code",
   "execution_count": 1,
   "metadata": {},
   "outputs": [],
   "source": [
    "import pandas_profiling as pp\n",
    "import pandas as pd\n",
    "import numpy as np\n",
    "from tqdm import tqdm\n",
    "\n",
    "import seaborn as sns\n",
    "from matplotlib import pyplot as plt\n",
    "%matplotlib inline\n",
    "\n",
    "sns.set_style('whitegrid')\n",
    "pd.set_option('display.max_columns', None) # display all columns\n",
    "\n",
    "import warnings\n",
    "warnings.filterwarnings('ignore')\n",
    "import glob\n",
    "import re"
   ]
  },
  {
   "cell_type": "code",
   "execution_count": 2,
   "metadata": {},
   "outputs": [],
   "source": [
    "path = r'../data/dataset/A_DB_NRJ' # use your path\n",
    "all_files = glob.glob(path + \"/*.csv\")\n",
    "li = []\n",
    "\n",
    "for filename in all_files:\n",
    "    df = pd.read_csv(filename,\n",
    "                     delimiter = ',',\n",
    "                     encoding='utf-8')\n",
    "    li.append(df)\n",
    "\n",
    "df = pd.concat(li, axis=0, ignore_index=True)"
   ]
  },
  {
   "cell_type": "code",
   "execution_count": 3,
   "metadata": {},
   "outputs": [
    {
     "name": "stdout",
     "output_type": "stream",
     "text": [
      "<class 'pandas.core.frame.DataFrame'>\n",
      "RangeIndex: 20704510 entries, 0 to 20704509\n",
      "Data columns (total 21 columns):\n",
      "id                          int64\n",
      "googleId                    object\n",
      "hotjarId                    object\n",
      "url                         object\n",
      "dateHour                    int64\n",
      "UserAgent                   object\n",
      "Latitude                    float64\n",
      "Longitude                   float64\n",
      "orientationAlpha            float64\n",
      "orientationBeta             float64\n",
      "orientationGamma            float64\n",
      "accelerationX               float64\n",
      "accelerationY               float64\n",
      "accelerationZ               float64\n",
      "accelerationInclGravityX    float64\n",
      "accelerationInclGravityY    float64\n",
      "accelerationInclGravityZ    float64\n",
      "rotationX                   float64\n",
      "rotationY                   float64\n",
      "rotationZ                   float64\n",
      "Key_IP                      float64\n",
      "dtypes: float64(15), int64(2), object(4)\n",
      "memory usage: 3.2+ GB\n"
     ]
    }
   ],
   "source": [
    "df.info()"
   ]
  },
  {
   "cell_type": "code",
   "execution_count": 4,
   "metadata": {},
   "outputs": [
    {
     "data": {
      "text/plain": [
       "id                            int64:dense\n",
       "googleId                     object:dense\n",
       "hotjarId                     object:dense\n",
       "url                          object:dense\n",
       "dateHour                      int64:dense\n",
       "UserAgent                    object:dense\n",
       "Latitude                    float64:dense\n",
       "Longitude                   float64:dense\n",
       "orientationAlpha            float64:dense\n",
       "orientationBeta             float64:dense\n",
       "orientationGamma            float64:dense\n",
       "accelerationX               float64:dense\n",
       "accelerationY               float64:dense\n",
       "accelerationZ               float64:dense\n",
       "accelerationInclGravityX    float64:dense\n",
       "accelerationInclGravityY    float64:dense\n",
       "accelerationInclGravityZ    float64:dense\n",
       "rotationX                   float64:dense\n",
       "rotationY                   float64:dense\n",
       "rotationZ                   float64:dense\n",
       "Key_IP                      float64:dense\n",
       "dtype: object"
      ]
     },
     "execution_count": 4,
     "metadata": {},
     "output_type": "execute_result"
    }
   ],
   "source": [
    "# show sparse/dense\n",
    "df.ftypes"
   ]
  },
  {
   "cell_type": "code",
   "execution_count": 5,
   "metadata": {},
   "outputs": [
    {
     "data": {
      "text/html": [
       "<div>\n",
       "<style scoped>\n",
       "    .dataframe tbody tr th:only-of-type {\n",
       "        vertical-align: middle;\n",
       "    }\n",
       "\n",
       "    .dataframe tbody tr th {\n",
       "        vertical-align: top;\n",
       "    }\n",
       "\n",
       "    .dataframe thead th {\n",
       "        text-align: right;\n",
       "    }\n",
       "</style>\n",
       "<table border=\"1\" class=\"dataframe\">\n",
       "  <thead>\n",
       "    <tr style=\"text-align: right;\">\n",
       "      <th></th>\n",
       "      <th>id</th>\n",
       "      <th>googleId</th>\n",
       "      <th>hotjarId</th>\n",
       "      <th>url</th>\n",
       "      <th>dateHour</th>\n",
       "      <th>UserAgent</th>\n",
       "      <th>Latitude</th>\n",
       "      <th>Longitude</th>\n",
       "      <th>orientationAlpha</th>\n",
       "      <th>orientationBeta</th>\n",
       "      <th>orientationGamma</th>\n",
       "      <th>accelerationX</th>\n",
       "      <th>accelerationY</th>\n",
       "      <th>accelerationZ</th>\n",
       "      <th>accelerationInclGravityX</th>\n",
       "      <th>accelerationInclGravityY</th>\n",
       "      <th>accelerationInclGravityZ</th>\n",
       "      <th>rotationX</th>\n",
       "      <th>rotationY</th>\n",
       "      <th>rotationZ</th>\n",
       "      <th>Key_IP</th>\n",
       "    </tr>\n",
       "  </thead>\n",
       "  <tbody>\n",
       "    <tr>\n",
       "      <th>18161373</th>\n",
       "      <td>964937</td>\n",
       "      <td>GA1.2.110452929.1562495723</td>\n",
       "      <td>5c114fbf-1a95-40d5-80cf-b073a6bd74a8</td>\n",
       "      <td>/radioplayer</td>\n",
       "      <td>2019100813</td>\n",
       "      <td>Mozilla/5.0 (Windows NT 10.0; Win64; x64; rv:6...</td>\n",
       "      <td>50.835582</td>\n",
       "      <td>4.311017</td>\n",
       "      <td>NaN</td>\n",
       "      <td>NaN</td>\n",
       "      <td>NaN</td>\n",
       "      <td>NaN</td>\n",
       "      <td>NaN</td>\n",
       "      <td>NaN</td>\n",
       "      <td>NaN</td>\n",
       "      <td>NaN</td>\n",
       "      <td>NaN</td>\n",
       "      <td>NaN</td>\n",
       "      <td>NaN</td>\n",
       "      <td>NaN</td>\n",
       "      <td>499353.0</td>\n",
       "    </tr>\n",
       "    <tr>\n",
       "      <th>3436600</th>\n",
       "      <td>491143</td>\n",
       "      <td>GA1.2.2004138789.1564560840</td>\n",
       "      <td>26f9002e-68f4-49bc-bb3a-32d6763ba6ae</td>\n",
       "      <td>/radioplayer</td>\n",
       "      <td>2019101213</td>\n",
       "      <td>Mozilla/5.0 (Windows NT 10.0; Win64; x64) Appl...</td>\n",
       "      <td>0.000000</td>\n",
       "      <td>0.000000</td>\n",
       "      <td>0.0</td>\n",
       "      <td>0.0</td>\n",
       "      <td>0.0</td>\n",
       "      <td>NaN</td>\n",
       "      <td>NaN</td>\n",
       "      <td>NaN</td>\n",
       "      <td>NaN</td>\n",
       "      <td>NaN</td>\n",
       "      <td>NaN</td>\n",
       "      <td>NaN</td>\n",
       "      <td>NaN</td>\n",
       "      <td>NaN</td>\n",
       "      <td>480284.0</td>\n",
       "    </tr>\n",
       "    <tr>\n",
       "      <th>10798423</th>\n",
       "      <td>910738</td>\n",
       "      <td>GA1.2.1704884302.1516050824</td>\n",
       "      <td>6251b74f-7ad9-4f1c-a4a1-5f4d7baf1796</td>\n",
       "      <td>/radioplayer/NRJhits2000</td>\n",
       "      <td>2019101413</td>\n",
       "      <td>Mozilla/5.0 (Windows NT 10.0; Win64; x64; rv:6...</td>\n",
       "      <td>0.000000</td>\n",
       "      <td>0.000000</td>\n",
       "      <td>NaN</td>\n",
       "      <td>NaN</td>\n",
       "      <td>NaN</td>\n",
       "      <td>NaN</td>\n",
       "      <td>NaN</td>\n",
       "      <td>NaN</td>\n",
       "      <td>NaN</td>\n",
       "      <td>NaN</td>\n",
       "      <td>NaN</td>\n",
       "      <td>NaN</td>\n",
       "      <td>NaN</td>\n",
       "      <td>NaN</td>\n",
       "      <td>453455.0</td>\n",
       "    </tr>\n",
       "    <tr>\n",
       "      <th>12583785</th>\n",
       "      <td>514395</td>\n",
       "      <td>GA1.2.1948254940.1555333031</td>\n",
       "      <td>6f9efd28-1abd-4028-8ece-3e9fc201c08d</td>\n",
       "      <td>/radioplayer</td>\n",
       "      <td>2019101509</td>\n",
       "      <td>Mozilla/5.0 (Windows NT 6.1; Win64; x64) Apple...</td>\n",
       "      <td>0.000000</td>\n",
       "      <td>0.000000</td>\n",
       "      <td>0.0</td>\n",
       "      <td>0.0</td>\n",
       "      <td>0.0</td>\n",
       "      <td>NaN</td>\n",
       "      <td>NaN</td>\n",
       "      <td>NaN</td>\n",
       "      <td>NaN</td>\n",
       "      <td>NaN</td>\n",
       "      <td>NaN</td>\n",
       "      <td>NaN</td>\n",
       "      <td>NaN</td>\n",
       "      <td>NaN</td>\n",
       "      <td>NaN</td>\n",
       "    </tr>\n",
       "  </tbody>\n",
       "</table>\n",
       "</div>"
      ],
      "text/plain": [
       "              id                     googleId  \\\n",
       "18161373  964937   GA1.2.110452929.1562495723   \n",
       "3436600   491143  GA1.2.2004138789.1564560840   \n",
       "10798423  910738  GA1.2.1704884302.1516050824   \n",
       "12583785  514395  GA1.2.1948254940.1555333031   \n",
       "\n",
       "                                      hotjarId                       url  \\\n",
       "18161373  5c114fbf-1a95-40d5-80cf-b073a6bd74a8              /radioplayer   \n",
       "3436600   26f9002e-68f4-49bc-bb3a-32d6763ba6ae              /radioplayer   \n",
       "10798423  6251b74f-7ad9-4f1c-a4a1-5f4d7baf1796  /radioplayer/NRJhits2000   \n",
       "12583785  6f9efd28-1abd-4028-8ece-3e9fc201c08d              /radioplayer   \n",
       "\n",
       "            dateHour                                          UserAgent  \\\n",
       "18161373  2019100813  Mozilla/5.0 (Windows NT 10.0; Win64; x64; rv:6...   \n",
       "3436600   2019101213  Mozilla/5.0 (Windows NT 10.0; Win64; x64) Appl...   \n",
       "10798423  2019101413  Mozilla/5.0 (Windows NT 10.0; Win64; x64; rv:6...   \n",
       "12583785  2019101509  Mozilla/5.0 (Windows NT 6.1; Win64; x64) Apple...   \n",
       "\n",
       "           Latitude  Longitude  orientationAlpha  orientationBeta  \\\n",
       "18161373  50.835582   4.311017               NaN              NaN   \n",
       "3436600    0.000000   0.000000               0.0              0.0   \n",
       "10798423   0.000000   0.000000               NaN              NaN   \n",
       "12583785   0.000000   0.000000               0.0              0.0   \n",
       "\n",
       "          orientationGamma  accelerationX  accelerationY  accelerationZ  \\\n",
       "18161373               NaN            NaN            NaN            NaN   \n",
       "3436600                0.0            NaN            NaN            NaN   \n",
       "10798423               NaN            NaN            NaN            NaN   \n",
       "12583785               0.0            NaN            NaN            NaN   \n",
       "\n",
       "          accelerationInclGravityX  accelerationInclGravityY  \\\n",
       "18161373                       NaN                       NaN   \n",
       "3436600                        NaN                       NaN   \n",
       "10798423                       NaN                       NaN   \n",
       "12583785                       NaN                       NaN   \n",
       "\n",
       "          accelerationInclGravityZ  rotationX  rotationY  rotationZ    Key_IP  \n",
       "18161373                       NaN        NaN        NaN        NaN  499353.0  \n",
       "3436600                        NaN        NaN        NaN        NaN  480284.0  \n",
       "10798423                       NaN        NaN        NaN        NaN  453455.0  \n",
       "12583785                       NaN        NaN        NaN        NaN       NaN  "
      ]
     },
     "execution_count": 5,
     "metadata": {},
     "output_type": "execute_result"
    }
   ],
   "source": [
    "df.sample(4)"
   ]
  },
  {
   "cell_type": "code",
   "execution_count": 6,
   "metadata": {},
   "outputs": [
    {
     "data": {
      "text/plain": [
       "1325311"
      ]
     },
     "execution_count": 6,
     "metadata": {},
     "output_type": "execute_result"
    }
   ],
   "source": [
    "df[\"accelerationX\"].nunique()"
   ]
  },
  {
   "cell_type": "code",
   "execution_count": 7,
   "metadata": {},
   "outputs": [],
   "source": [
    "# if value make 1, if NaN make 0\n",
    "df[\"accelerationX\"] = ~df[\"accelerationX\"].isna()"
   ]
  },
  {
   "cell_type": "code",
   "execution_count": 8,
   "metadata": {},
   "outputs": [
    {
     "data": {
      "text/plain": [
       "2"
      ]
     },
     "execution_count": 8,
     "metadata": {},
     "output_type": "execute_result"
    }
   ],
   "source": [
    "df[\"accelerationX\"].nunique()"
   ]
  },
  {
   "cell_type": "code",
   "execution_count": 9,
   "metadata": {},
   "outputs": [],
   "source": [
    "# rename\n",
    "df.rename(columns={'accelerationX': 'moved_mobile'}, inplace=True)"
   ]
  },
  {
   "cell_type": "code",
   "execution_count": 10,
   "metadata": {},
   "outputs": [],
   "source": [
    "df = df.astype({'moved_mobile':'bool'})"
   ]
  },
  {
   "cell_type": "code",
   "execution_count": 11,
   "metadata": {},
   "outputs": [],
   "source": [
    "# drop these features:\n",
    "df.drop([\"accelerationInclGravityX\",\n",
    "         \"accelerationInclGravityY\",\n",
    "         \"accelerationInclGravityZ\",\n",
    "         \"accelerationY\",\n",
    "         \"accelerationZ\",\n",
    "         \"rotationX\",\n",
    "         \"rotationY\",\n",
    "         \"rotationZ\",\n",
    "         \"Latitude\",\n",
    "         \"Longitude\",\n",
    "         \"id\",\n",
    "         \"orientationAlpha\",\n",
    "         \"orientationBeta\",\n",
    "         \"orientationGamma\",\n",
    "         \"url\"], axis=1, inplace=True)"
   ]
  },
  {
   "cell_type": "code",
   "execution_count": 12,
   "metadata": {},
   "outputs": [],
   "source": [
    "# change to datetime format\n",
    "df[\"dateHour\"] = pd.to_datetime(df[\"dateHour\"], format=\"%Y%m%d%H\")"
   ]
  },
  {
   "cell_type": "code",
   "execution_count": 13,
   "metadata": {},
   "outputs": [
    {
     "data": {
      "text/plain": [
       "845621"
      ]
     },
     "execution_count": 13,
     "metadata": {},
     "output_type": "execute_result"
    }
   ],
   "source": [
    "sum(df[\"googleId\"].isna())"
   ]
  },
  {
   "cell_type": "code",
   "execution_count": 14,
   "metadata": {},
   "outputs": [
    {
     "data": {
      "text/html": [
       "<div>\n",
       "<style scoped>\n",
       "    .dataframe tbody tr th:only-of-type {\n",
       "        vertical-align: middle;\n",
       "    }\n",
       "\n",
       "    .dataframe tbody tr th {\n",
       "        vertical-align: top;\n",
       "    }\n",
       "\n",
       "    .dataframe thead th {\n",
       "        text-align: right;\n",
       "    }\n",
       "</style>\n",
       "<table border=\"1\" class=\"dataframe\">\n",
       "  <thead>\n",
       "    <tr style=\"text-align: right;\">\n",
       "      <th></th>\n",
       "      <th>googleId</th>\n",
       "      <th>hotjarId</th>\n",
       "      <th>dateHour</th>\n",
       "      <th>UserAgent</th>\n",
       "      <th>moved_mobile</th>\n",
       "      <th>Key_IP</th>\n",
       "    </tr>\n",
       "  </thead>\n",
       "  <tbody>\n",
       "    <tr>\n",
       "      <th>19467920</th>\n",
       "      <td>NaN</td>\n",
       "      <td>NaN</td>\n",
       "      <td>2019-10-09 12:00:00</td>\n",
       "      <td>Mozilla/5.0 (Windows NT 10.0; Win64; x64) Appl...</td>\n",
       "      <td>False</td>\n",
       "      <td>492774.0</td>\n",
       "    </tr>\n",
       "    <tr>\n",
       "      <th>17574827</th>\n",
       "      <td>NaN</td>\n",
       "      <td>NaN</td>\n",
       "      <td>2019-10-08 08:00:00</td>\n",
       "      <td>Mozilla/5.0 (Windows NT 10.0; Win64; x64; rv:6...</td>\n",
       "      <td>False</td>\n",
       "      <td>409909.0</td>\n",
       "    </tr>\n",
       "    <tr>\n",
       "      <th>13696934</th>\n",
       "      <td>NaN</td>\n",
       "      <td>NaN</td>\n",
       "      <td>2019-10-07 07:00:00</td>\n",
       "      <td>Mozilla/5.0 (Macintosh; Intel Mac OS X 10_15) ...</td>\n",
       "      <td>False</td>\n",
       "      <td>478829.0</td>\n",
       "    </tr>\n",
       "    <tr>\n",
       "      <th>19668973</th>\n",
       "      <td>NaN</td>\n",
       "      <td>NaN</td>\n",
       "      <td>2019-10-09 14:00:00</td>\n",
       "      <td>Mozilla/5.0 (Windows NT 10.0; Win64; x64) Appl...</td>\n",
       "      <td>False</td>\n",
       "      <td>492774.0</td>\n",
       "    </tr>\n",
       "  </tbody>\n",
       "</table>\n",
       "</div>"
      ],
      "text/plain": [
       "         googleId hotjarId            dateHour  \\\n",
       "19467920      NaN      NaN 2019-10-09 12:00:00   \n",
       "17574827      NaN      NaN 2019-10-08 08:00:00   \n",
       "13696934      NaN      NaN 2019-10-07 07:00:00   \n",
       "19668973      NaN      NaN 2019-10-09 14:00:00   \n",
       "\n",
       "                                                  UserAgent  moved_mobile  \\\n",
       "19467920  Mozilla/5.0 (Windows NT 10.0; Win64; x64) Appl...         False   \n",
       "17574827  Mozilla/5.0 (Windows NT 10.0; Win64; x64; rv:6...         False   \n",
       "13696934  Mozilla/5.0 (Macintosh; Intel Mac OS X 10_15) ...         False   \n",
       "19668973  Mozilla/5.0 (Windows NT 10.0; Win64; x64) Appl...         False   \n",
       "\n",
       "            Key_IP  \n",
       "19467920  492774.0  \n",
       "17574827  409909.0  \n",
       "13696934  478829.0  \n",
       "19668973  492774.0  "
      ]
     },
     "execution_count": 14,
     "metadata": {},
     "output_type": "execute_result"
    }
   ],
   "source": [
    "df[df[\"googleId\"].isna()].sample(4)"
   ]
  },
  {
   "cell_type": "code",
   "execution_count": 15,
   "metadata": {},
   "outputs": [],
   "source": [
    "# remove the missing rows, hotjarid is also missing...\n",
    "df.dropna(subset=['googleId', 'hotjarId'], inplace=True, axis=0)"
   ]
  },
  {
   "cell_type": "code",
   "execution_count": 16,
   "metadata": {},
   "outputs": [],
   "source": [
    "# let's remove the first few characters ... GA1.2. from \"googleId\" trick is to drop the first 6 characters\n",
    "df[\"googleId\"] = df[\"googleId\"].str[6:]"
   ]
  },
  {
   "cell_type": "code",
   "execution_count": 17,
   "metadata": {},
   "outputs": [],
   "source": [
    "# remove all missing values for the keys, then change the values in integers\n",
    "df.dropna(subset=['Key_IP'], inplace=True, axis=0)\n",
    "df = df.astype({\"Key_IP\":'int'})"
   ]
  },
  {
   "cell_type": "code",
   "execution_count": 18,
   "metadata": {},
   "outputs": [],
   "source": [
    "# we can remove useragent:\n",
    "df.drop([\"UserAgent\"], axis=1, inplace=True)"
   ]
  },
  {
   "cell_type": "code",
   "execution_count": 26,
   "metadata": {},
   "outputs": [],
   "source": [
    "df.to_csv(\"../data/dataset/clean_A_DB_NRJ.csv\", index=False)"
   ]
  },
  {
   "cell_type": "code",
   "execution_count": 19,
   "metadata": {},
   "outputs": [],
   "source": [
    "pp.ProfileReport(df.sample(3500)).to_file('../data/report/clean_A_DB_NRJ-full.html')"
   ]
  }
 ],
 "metadata": {
  "kernelspec": {
   "display_name": "Python 3",
   "language": "python",
   "name": "python3"
  },
  "language_info": {
   "codemirror_mode": {
    "name": "ipython",
    "version": 3
   },
   "file_extension": ".py",
   "mimetype": "text/x-python",
   "name": "python",
   "nbconvert_exporter": "python",
   "pygments_lexer": "ipython3",
   "version": "3.7.3"
  }
 },
 "nbformat": 4,
 "nbformat_minor": 2
}
