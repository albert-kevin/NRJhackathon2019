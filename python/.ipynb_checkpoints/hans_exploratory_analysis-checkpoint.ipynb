{
 "cells": [
  {
   "cell_type": "code",
   "execution_count": 13,
   "metadata": {},
   "outputs": [
    {
     "name": "stdout",
     "output_type": "stream",
     "text": [
      "   id                     googleId                              hotjarId  \\\n",
      "0  51  GA1.2.1058444664.1397475700  dfedde13-a26e-4e08-8b08-213b90eff65a   \n",
      "1  52  GA1.2.1726994738.1570565940  03fc22e5-5eb1-4390-9f67-eb896944289c   \n",
      "2  53                          NaN                                   NaN   \n",
      "3  54   GA1.2.904888951.1508912765  f9c4e860-97f2-4f3a-9b0d-b527564b4a81   \n",
      "4  55   GA1.2.544563683.1557045143  56b0046a-3a0e-471c-a88c-73f165d04262   \n",
      "\n",
      "                    url    dateHour  \\\n",
      "0          /radioplayer  2019101001   \n",
      "1  /classements/hit-nrj  2019101001   \n",
      "2          /radioplayer  2019101001   \n",
      "3          /radioplayer  2019101001   \n",
      "4               /player  2019101001   \n",
      "\n",
      "                                           UserAgent   Latitude  Longitude  \\\n",
      "0  Mozilla/5.0 (Windows NT 6.1; Win64; x64) Apple...  49.611621   6.131935   \n",
      "1  Mozilla/5.0 (Windows NT 10.0; Win64; x64; rv:6...   0.000000   0.000000   \n",
      "2  Mozilla/5.0 (Windows NT 10.0; Win64; x64) Appl...   0.000000   0.000000   \n",
      "3  Mozilla/5.0 (Windows NT 10.0; Win64; x64; rv:6...   0.000000   0.000000   \n",
      "4  Mozilla/5.0 (Windows NT 10.0; Win64; x64) Appl...  50.898041   4.341260   \n",
      "\n",
      "   orientationAlpha  orientationBeta  ...  accelerationX  accelerationY  \\\n",
      "0               0.0              0.0  ...            NaN            NaN   \n",
      "1               NaN              NaN  ...            NaN            NaN   \n",
      "2               0.0              0.0  ...            NaN            NaN   \n",
      "3               NaN              NaN  ...            NaN            NaN   \n",
      "4               0.0              0.0  ...            NaN            NaN   \n",
      "\n",
      "   accelerationZ  accelerationInclGravityX  accelerationInclGravityY  \\\n",
      "0            NaN                       NaN                       NaN   \n",
      "1            NaN                       NaN                       NaN   \n",
      "2            NaN                       NaN                       NaN   \n",
      "3            NaN                       NaN                       NaN   \n",
      "4            NaN                       NaN                       NaN   \n",
      "\n",
      "   accelerationInclGravityZ  rotationX  rotationY  rotationZ    Key_IP  \n",
      "0                       NaN        NaN        NaN        NaN  437080.0  \n",
      "1                       NaN        NaN        NaN        NaN  510218.0  \n",
      "2                       NaN        NaN        NaN        NaN  501376.0  \n",
      "3                       NaN        NaN        NaN        NaN  446988.0  \n",
      "4                       NaN        NaN        NaN        NaN  411900.0  \n",
      "\n",
      "[5 rows x 21 columns]\n",
      "<class 'pandas.core.frame.DataFrame'>\n",
      "RangeIndex: 20704510 entries, 0 to 20704509\n",
      "Data columns (total 21 columns):\n",
      "id                          int64\n",
      "googleId                    object\n",
      "hotjarId                    object\n",
      "url                         object\n",
      "dateHour                    int64\n",
      "UserAgent                   object\n",
      "Latitude                    float64\n",
      "Longitude                   float64\n",
      "orientationAlpha            float64\n",
      "orientationBeta             float64\n",
      "orientationGamma            float64\n",
      "accelerationX               float64\n",
      "accelerationY               float64\n",
      "accelerationZ               float64\n",
      "accelerationInclGravityX    float64\n",
      "accelerationInclGravityY    float64\n",
      "accelerationInclGravityZ    float64\n",
      "rotationX                   float64\n",
      "rotationY                   float64\n",
      "rotationZ                   float64\n",
      "Key_IP                      float64\n",
      "dtypes: float64(15), int64(2), object(4)\n",
      "memory usage: 3.2+ GB\n",
      "None\n"
     ]
    },
    {
     "ename": "TypeError",
     "evalue": "'tuple' object is not callable",
     "output_type": "error",
     "traceback": [
      "\u001b[0;31m---------------------------------------------------------------------------\u001b[0m",
      "\u001b[0;31mTypeError\u001b[0m                                 Traceback (most recent call last)",
      "\u001b[0;32m<ipython-input-13-7076ee525e04>\u001b[0m in \u001b[0;36m<module>\u001b[0;34m\u001b[0m\n\u001b[1;32m     17\u001b[0m \u001b[0mprint\u001b[0m\u001b[0;34m(\u001b[0m\u001b[0mframe\u001b[0m\u001b[0;34m.\u001b[0m\u001b[0mhead\u001b[0m\u001b[0;34m(\u001b[0m\u001b[0;34m)\u001b[0m\u001b[0;34m)\u001b[0m\u001b[0;34m\u001b[0m\u001b[0;34m\u001b[0m\u001b[0m\n\u001b[1;32m     18\u001b[0m \u001b[0mprint\u001b[0m\u001b[0;34m(\u001b[0m\u001b[0mframe\u001b[0m\u001b[0;34m.\u001b[0m\u001b[0minfo\u001b[0m\u001b[0;34m(\u001b[0m\u001b[0;34m)\u001b[0m\u001b[0;34m)\u001b[0m\u001b[0;34m\u001b[0m\u001b[0;34m\u001b[0m\u001b[0m\n\u001b[0;32m---> 19\u001b[0;31m \u001b[0mprint\u001b[0m\u001b[0;34m(\u001b[0m\u001b[0mframe\u001b[0m\u001b[0;34m.\u001b[0m\u001b[0mshape\u001b[0m\u001b[0;34m(\u001b[0m\u001b[0;34m)\u001b[0m\u001b[0;34m)\u001b[0m\u001b[0;34m\u001b[0m\u001b[0;34m\u001b[0m\u001b[0m\n\u001b[0m",
      "\u001b[0;31mTypeError\u001b[0m: 'tuple' object is not callable"
     ]
    }
   ],
   "source": [
    "import pandas as pd\n",
    "import glob\n",
    "\n",
    "\n",
    "path = r'../data/dataset/A_DB_NRJ' # use your path\n",
    "all_files = glob.glob(path + \"/*.csv\")\n",
    "\n",
    "li = []\n",
    "\n",
    "\n",
    "\n",
    "for filename in all_files:\n",
    "    df = pd.read_csv(filename)\n",
    "    li.append(df)\n",
    "\n",
    "frame = pd.concat(li, axis=0, ignore_index=True)\n",
    "print(frame.head())\n",
    "print(frame.info())\n",
    "print(frame.shape())"
   ]
  },
  {
   "cell_type": "code",
   "execution_count": null,
   "metadata": {},
   "outputs": [],
   "source": [
    "df = pd.read_csv('data/dataset/a_NRJ_premium/a_NRJ_premium.csv')"
   ]
  },
  {
   "cell_type": "code",
   "execution_count": 9,
   "metadata": {},
   "outputs": [
    {
     "name": "stdout",
     "output_type": "stream",
     "text": [
      "/home/jovyan/python\r\n"
     ]
    }
   ],
   "source": [
    "! pwd"
   ]
  },
  {
   "cell_type": "code",
   "execution_count": null,
   "metadata": {},
   "outputs": [],
   "source": []
  }
 ],
 "metadata": {
  "kernelspec": {
   "display_name": "Python 3",
   "language": "python",
   "name": "python3"
  },
  "language_info": {
   "codemirror_mode": {
    "name": "ipython",
    "version": 3
   },
   "file_extension": ".py",
   "mimetype": "text/x-python",
   "name": "python",
   "nbconvert_exporter": "python",
   "pygments_lexer": "ipython3",
   "version": "3.7.3"
  }
 },
 "nbformat": 4,
 "nbformat_minor": 2
}
