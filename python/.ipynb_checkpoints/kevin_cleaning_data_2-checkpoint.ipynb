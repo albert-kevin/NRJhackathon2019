{
 "cells": [
  {
   "cell_type": "code",
   "execution_count": 1,
   "metadata": {},
   "outputs": [],
   "source": [
    "import pandas_profiling as pp\n",
    "import pandas as pd\n",
    "import numpy as np\n",
    "from tqdm import tqdm\n",
    "\n",
    "import seaborn as sns\n",
    "from matplotlib import pyplot as plt\n",
    "%matplotlib inline\n",
    "\n",
    "sns.set_style('whitegrid')\n",
    "pd.set_option('display.max_columns', None) # display all columns\n",
    "\n",
    "import warnings\n",
    "warnings.filterwarnings('ignore')\n",
    "import glob\n",
    "import re"
   ]
  },
  {
   "cell_type": "code",
   "execution_count": 2,
   "metadata": {},
   "outputs": [],
   "source": [
    "path = r'../data/dataset/A_DB_NRJ' # use your path\n",
    "all_files = glob.glob(path + \"/*.csv\")\n",
    "li = []\n",
    "\n",
    "for filename in all_files:\n",
    "    df = pd.read_csv(filename,\n",
    "                     delimiter = ',',\n",
    "                     encoding='utf-8')\n",
    "    li.append(df)\n",
    "\n",
    "df = pd.concat(li, axis=0, ignore_index=True)"
   ]
  },
  {
   "cell_type": "code",
   "execution_count": 57,
   "metadata": {},
   "outputs": [
    {
     "name": "stdout",
     "output_type": "stream",
     "text": [
      "<class 'pandas.core.frame.DataFrame'>\n",
      "Int64Index: 19333056 entries, 0 to 20704509\n",
      "Data columns (total 11 columns):\n",
      "googleId        object\n",
      "hotjarId        object\n",
      "dateHour        datetime64[ns]\n",
      "UserAgent       object\n",
      "Latitude        float64\n",
      "Longitude       float64\n",
      "moved_mobile    bool\n",
      "rotationX       float64\n",
      "rotationY       float64\n",
      "rotationZ       float64\n",
      "Key_IP          int64\n",
      "dtypes: bool(1), datetime64[ns](1), float64(5), int64(1), object(3)\n",
      "memory usage: 1.6+ GB\n"
     ]
    }
   ],
   "source": [
    "df.info()"
   ]
  },
  {
   "cell_type": "code",
   "execution_count": 42,
   "metadata": {},
   "outputs": [
    {
     "data": {
      "text/plain": [
       "googleId                object:dense\n",
       "hotjarId                object:dense\n",
       "dateHour        datetime64[ns]:dense\n",
       "UserAgent               object:dense\n",
       "Latitude               float64:dense\n",
       "Longitude              float64:dense\n",
       "moved_mobile              bool:dense\n",
       "rotationX              float64:dense\n",
       "rotationY              float64:dense\n",
       "rotationZ              float64:dense\n",
       "Key_IP                 float64:dense\n",
       "dtype: object"
      ]
     },
     "execution_count": 42,
     "metadata": {},
     "output_type": "execute_result"
    }
   ],
   "source": [
    "# show sparse/dense\n",
    "df.ftypes"
   ]
  },
  {
   "cell_type": "code",
   "execution_count": 53,
   "metadata": {},
   "outputs": [
    {
     "data": {
      "text/html": [
       "<div>\n",
       "<style scoped>\n",
       "    .dataframe tbody tr th:only-of-type {\n",
       "        vertical-align: middle;\n",
       "    }\n",
       "\n",
       "    .dataframe tbody tr th {\n",
       "        vertical-align: top;\n",
       "    }\n",
       "\n",
       "    .dataframe thead th {\n",
       "        text-align: right;\n",
       "    }\n",
       "</style>\n",
       "<table border=\"1\" class=\"dataframe\">\n",
       "  <thead>\n",
       "    <tr style=\"text-align: right;\">\n",
       "      <th></th>\n",
       "      <th>googleId</th>\n",
       "      <th>hotjarId</th>\n",
       "      <th>dateHour</th>\n",
       "      <th>UserAgent</th>\n",
       "      <th>Latitude</th>\n",
       "      <th>Longitude</th>\n",
       "      <th>moved_mobile</th>\n",
       "      <th>rotationX</th>\n",
       "      <th>rotationY</th>\n",
       "      <th>rotationZ</th>\n",
       "      <th>Key_IP</th>\n",
       "    </tr>\n",
       "  </thead>\n",
       "  <tbody>\n",
       "    <tr>\n",
       "      <th>9497348</th>\n",
       "      <td>654285929.1570964910</td>\n",
       "      <td>c0091724-912d-46da-884d-b3e606a47b33</td>\n",
       "      <td>2019-10-13 11:00:00</td>\n",
       "      <td>Mozilla/5.0 (Linux; Android 6.0.1; SM-A500FU) ...</td>\n",
       "      <td>50.260204</td>\n",
       "      <td>5.753629</td>\n",
       "      <td>True</td>\n",
       "      <td>NaN</td>\n",
       "      <td>NaN</td>\n",
       "      <td>NaN</td>\n",
       "      <td>584302.0</td>\n",
       "    </tr>\n",
       "    <tr>\n",
       "      <th>11527288</th>\n",
       "      <td>957614937.1571470265</td>\n",
       "      <td>0de5cbf3-45f6-45c5-b3ec-57b4ee77d61c</td>\n",
       "      <td>2019-10-19 09:00:00</td>\n",
       "      <td>Mozilla/5.0 (Macintosh; Intel Mac OS X 10_13_6...</td>\n",
       "      <td>0.000000</td>\n",
       "      <td>0.000000</td>\n",
       "      <td>False</td>\n",
       "      <td>NaN</td>\n",
       "      <td>NaN</td>\n",
       "      <td>NaN</td>\n",
       "      <td>632796.0</td>\n",
       "    </tr>\n",
       "    <tr>\n",
       "      <th>12997026</th>\n",
       "      <td>1739700094.1540536663</td>\n",
       "      <td>794964bb-89eb-40aa-b05b-e5cc4a16186c</td>\n",
       "      <td>2019-10-15 13:00:00</td>\n",
       "      <td>Mozilla/5.0 (Windows NT 10.0; Win64; x64; rv:6...</td>\n",
       "      <td>0.000000</td>\n",
       "      <td>0.000000</td>\n",
       "      <td>False</td>\n",
       "      <td>NaN</td>\n",
       "      <td>NaN</td>\n",
       "      <td>NaN</td>\n",
       "      <td>411106.0</td>\n",
       "    </tr>\n",
       "    <tr>\n",
       "      <th>9468375</th>\n",
       "      <td>1060492325.1570887287</td>\n",
       "      <td>5bb7d205-1267-4b9d-8d04-7adff958a4ba</td>\n",
       "      <td>2019-10-13 10:00:00</td>\n",
       "      <td>Mozilla/5.0 (Windows NT 10.0; Win64; x64; rv:6...</td>\n",
       "      <td>0.000000</td>\n",
       "      <td>0.000000</td>\n",
       "      <td>False</td>\n",
       "      <td>NaN</td>\n",
       "      <td>NaN</td>\n",
       "      <td>NaN</td>\n",
       "      <td>571801.0</td>\n",
       "    </tr>\n",
       "  </tbody>\n",
       "</table>\n",
       "</div>"
      ],
      "text/plain": [
       "                       googleId                              hotjarId  \\\n",
       "9497348    654285929.1570964910  c0091724-912d-46da-884d-b3e606a47b33   \n",
       "11527288   957614937.1571470265  0de5cbf3-45f6-45c5-b3ec-57b4ee77d61c   \n",
       "12997026  1739700094.1540536663  794964bb-89eb-40aa-b05b-e5cc4a16186c   \n",
       "9468375   1060492325.1570887287  5bb7d205-1267-4b9d-8d04-7adff958a4ba   \n",
       "\n",
       "                    dateHour  \\\n",
       "9497348  2019-10-13 11:00:00   \n",
       "11527288 2019-10-19 09:00:00   \n",
       "12997026 2019-10-15 13:00:00   \n",
       "9468375  2019-10-13 10:00:00   \n",
       "\n",
       "                                                  UserAgent   Latitude  \\\n",
       "9497348   Mozilla/5.0 (Linux; Android 6.0.1; SM-A500FU) ...  50.260204   \n",
       "11527288  Mozilla/5.0 (Macintosh; Intel Mac OS X 10_13_6...   0.000000   \n",
       "12997026  Mozilla/5.0 (Windows NT 10.0; Win64; x64; rv:6...   0.000000   \n",
       "9468375   Mozilla/5.0 (Windows NT 10.0; Win64; x64; rv:6...   0.000000   \n",
       "\n",
       "          Longitude  moved_mobile  rotationX  rotationY  rotationZ    Key_IP  \n",
       "9497348    5.753629          True        NaN        NaN        NaN  584302.0  \n",
       "11527288   0.000000         False        NaN        NaN        NaN  632796.0  \n",
       "12997026   0.000000         False        NaN        NaN        NaN  411106.0  \n",
       "9468375    0.000000         False        NaN        NaN        NaN  571801.0  "
      ]
     },
     "execution_count": 53,
     "metadata": {},
     "output_type": "execute_result"
    }
   ],
   "source": [
    "df.sample(4)"
   ]
  },
  {
   "cell_type": "code",
   "execution_count": 6,
   "metadata": {},
   "outputs": [
    {
     "data": {
      "text/plain": [
       "1325311"
      ]
     },
     "execution_count": 6,
     "metadata": {},
     "output_type": "execute_result"
    }
   ],
   "source": [
    "df[\"accelerationX\"].nunique()"
   ]
  },
  {
   "cell_type": "code",
   "execution_count": 18,
   "metadata": {},
   "outputs": [],
   "source": [
    "# if value make 1, if NaN make 0\n",
    "df[\"accelerationX\"] = ~df[\"accelerationX\"].isna()"
   ]
  },
  {
   "cell_type": "code",
   "execution_count": 19,
   "metadata": {},
   "outputs": [
    {
     "data": {
      "text/plain": [
       "2"
      ]
     },
     "execution_count": 19,
     "metadata": {},
     "output_type": "execute_result"
    }
   ],
   "source": [
    "df[\"accelerationX\"].nunique()"
   ]
  },
  {
   "cell_type": "code",
   "execution_count": 20,
   "metadata": {},
   "outputs": [],
   "source": [
    "# rename\n",
    "df.rename(columns={'accelerationX': 'moved_mobile'}, inplace=True)"
   ]
  },
  {
   "cell_type": "code",
   "execution_count": 22,
   "metadata": {},
   "outputs": [],
   "source": [
    "df = df.astype({'moved_mobile':'bool'})"
   ]
  },
  {
   "cell_type": "code",
   "execution_count": 21,
   "metadata": {},
   "outputs": [],
   "source": [
    "# drop these features:\n",
    "df.drop([\"accelerationInclGravityX\",\n",
    "         \"accelerationInclGravityY\",\n",
    "         \"accelerationInclGravityZ\",\n",
    "         \"accelerationY\",\n",
    "         \"accelerationZ\",\n",
    "         \"id\",\n",
    "         \"orientationAlpha\",\n",
    "         \"orientationBeta\",\n",
    "         \"orientationGamma\",\n",
    "         \"url\"], axis=1, inplace=True)"
   ]
  },
  {
   "cell_type": "code",
   "execution_count": 24,
   "metadata": {},
   "outputs": [],
   "source": [
    "# change to datetime format\n",
    "df[\"dateHour\"] = pd.to_datetime(df[\"dateHour\"], format=\"%Y%m%d%H\")"
   ]
  },
  {
   "cell_type": "code",
   "execution_count": 32,
   "metadata": {},
   "outputs": [
    {
     "data": {
      "text/plain": [
       "845621"
      ]
     },
     "execution_count": 32,
     "metadata": {},
     "output_type": "execute_result"
    }
   ],
   "source": [
    "sum(df[\"googleId\"].isna())"
   ]
  },
  {
   "cell_type": "code",
   "execution_count": 35,
   "metadata": {},
   "outputs": [
    {
     "data": {
      "text/html": [
       "<div>\n",
       "<style scoped>\n",
       "    .dataframe tbody tr th:only-of-type {\n",
       "        vertical-align: middle;\n",
       "    }\n",
       "\n",
       "    .dataframe tbody tr th {\n",
       "        vertical-align: top;\n",
       "    }\n",
       "\n",
       "    .dataframe thead th {\n",
       "        text-align: right;\n",
       "    }\n",
       "</style>\n",
       "<table border=\"1\" class=\"dataframe\">\n",
       "  <thead>\n",
       "    <tr style=\"text-align: right;\">\n",
       "      <th></th>\n",
       "      <th>googleId</th>\n",
       "      <th>hotjarId</th>\n",
       "      <th>dateHour</th>\n",
       "      <th>UserAgent</th>\n",
       "      <th>Latitude</th>\n",
       "      <th>Longitude</th>\n",
       "      <th>moved_mobile</th>\n",
       "      <th>rotationX</th>\n",
       "      <th>rotationY</th>\n",
       "      <th>rotationZ</th>\n",
       "      <th>Key_IP</th>\n",
       "    </tr>\n",
       "  </thead>\n",
       "  <tbody>\n",
       "    <tr>\n",
       "      <th>12819699</th>\n",
       "      <td>NaN</td>\n",
       "      <td>NaN</td>\n",
       "      <td>2019-10-15 11:00:00</td>\n",
       "      <td>Mozilla/5.0 (Windows NT 10.0; WOW64) AppleWebK...</td>\n",
       "      <td>50.833300</td>\n",
       "      <td>4.333300</td>\n",
       "      <td>False</td>\n",
       "      <td>NaN</td>\n",
       "      <td>NaN</td>\n",
       "      <td>NaN</td>\n",
       "      <td>NaN</td>\n",
       "    </tr>\n",
       "    <tr>\n",
       "      <th>4328318</th>\n",
       "      <td>NaN</td>\n",
       "      <td>NaN</td>\n",
       "      <td>2019-10-11 09:00:00</td>\n",
       "      <td>Mozilla/5.0 (Windows NT 10.0; Win64; x64) Appl...</td>\n",
       "      <td>50.871018</td>\n",
       "      <td>4.254664</td>\n",
       "      <td>False</td>\n",
       "      <td>NaN</td>\n",
       "      <td>NaN</td>\n",
       "      <td>NaN</td>\n",
       "      <td>NaN</td>\n",
       "    </tr>\n",
       "    <tr>\n",
       "      <th>6090114</th>\n",
       "      <td>NaN</td>\n",
       "      <td>NaN</td>\n",
       "      <td>2019-10-18 08:00:00</td>\n",
       "      <td>Mozilla/5.0 (Windows NT 6.1; Win64; x64; rv:69...</td>\n",
       "      <td>0.000000</td>\n",
       "      <td>0.000000</td>\n",
       "      <td>False</td>\n",
       "      <td>NaN</td>\n",
       "      <td>NaN</td>\n",
       "      <td>NaN</td>\n",
       "      <td>NaN</td>\n",
       "    </tr>\n",
       "    <tr>\n",
       "      <th>1644971</th>\n",
       "      <td>NaN</td>\n",
       "      <td>NaN</td>\n",
       "      <td>2019-10-17 07:00:00</td>\n",
       "      <td>Mozilla/5.0 (Windows NT 6.1; WOW64; Trident/7....</td>\n",
       "      <td>50.501100</td>\n",
       "      <td>3.662700</td>\n",
       "      <td>False</td>\n",
       "      <td>NaN</td>\n",
       "      <td>NaN</td>\n",
       "      <td>NaN</td>\n",
       "      <td>410528.0</td>\n",
       "    </tr>\n",
       "  </tbody>\n",
       "</table>\n",
       "</div>"
      ],
      "text/plain": [
       "         googleId hotjarId            dateHour  \\\n",
       "12819699      NaN      NaN 2019-10-15 11:00:00   \n",
       "4328318       NaN      NaN 2019-10-11 09:00:00   \n",
       "6090114       NaN      NaN 2019-10-18 08:00:00   \n",
       "1644971       NaN      NaN 2019-10-17 07:00:00   \n",
       "\n",
       "                                                  UserAgent   Latitude  \\\n",
       "12819699  Mozilla/5.0 (Windows NT 10.0; WOW64) AppleWebK...  50.833300   \n",
       "4328318   Mozilla/5.0 (Windows NT 10.0; Win64; x64) Appl...  50.871018   \n",
       "6090114   Mozilla/5.0 (Windows NT 6.1; Win64; x64; rv:69...   0.000000   \n",
       "1644971   Mozilla/5.0 (Windows NT 6.1; WOW64; Trident/7....  50.501100   \n",
       "\n",
       "          Longitude  moved_mobile  rotationX  rotationY  rotationZ    Key_IP  \n",
       "12819699   4.333300         False        NaN        NaN        NaN       NaN  \n",
       "4328318    4.254664         False        NaN        NaN        NaN       NaN  \n",
       "6090114    0.000000         False        NaN        NaN        NaN       NaN  \n",
       "1644971    3.662700         False        NaN        NaN        NaN  410528.0  "
      ]
     },
     "execution_count": 35,
     "metadata": {},
     "output_type": "execute_result"
    }
   ],
   "source": [
    "df[df[\"googleId\"].isna()].sample(4)"
   ]
  },
  {
   "cell_type": "code",
   "execution_count": 37,
   "metadata": {},
   "outputs": [],
   "source": [
    "# remove the missing rows, hotjarid is also missing...\n",
    "df.dropna(subset=['googleId', 'hotjarId'], inplace=True, axis=0)"
   ]
  },
  {
   "cell_type": "code",
   "execution_count": 52,
   "metadata": {},
   "outputs": [],
   "source": [
    "# let's remove the first few characters ... GA1.2. from \"googleId\" trick is to drop the first 6 characters\n",
    "df[\"googleId\"] = df[\"googleId\"].str[6:]"
   ]
  },
  {
   "cell_type": "code",
   "execution_count": 56,
   "metadata": {},
   "outputs": [],
   "source": [
    "# remove all missing values for the keys, then change the values in integers\n",
    "df.dropna(subset=['Key_IP'], inplace=True, axis=0)\n",
    "df = df.astype({\"Key_IP\":'int'})"
   ]
  },
  {
   "cell_type": "code",
   "execution_count": 60,
   "metadata": {},
   "outputs": [],
   "source": [
    "# we can remove useragent:\n",
    "df.drop([\"UserAgent\"], axis=1, inplace=True)"
   ]
  },
  {
   "cell_type": "code",
   "execution_count": null,
   "metadata": {},
   "outputs": [],
   "source": [
    "df.to_csv(\"../data/dataset/clean_A_DB_NRJ.csv\", index=False)"
   ]
  },
  {
   "cell_type": "code",
   "execution_count": null,
   "metadata": {},
   "outputs": [],
   "source": [
    "pp.ProfileReport(df).to_file('../data/report/clean_A_DB_NRJ-full.html')"
   ]
  }
 ],
 "metadata": {
  "kernelspec": {
   "display_name": "Python 3",
   "language": "python",
   "name": "python3"
  },
  "language_info": {
   "codemirror_mode": {
    "name": "ipython",
    "version": 3
   },
   "file_extension": ".py",
   "mimetype": "text/x-python",
   "name": "python",
   "nbconvert_exporter": "python",
   "pygments_lexer": "ipython3",
   "version": "3.7.3"
  }
 },
 "nbformat": 4,
 "nbformat_minor": 2
}
