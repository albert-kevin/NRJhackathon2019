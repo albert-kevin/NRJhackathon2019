{
 "cells": [
  {
   "cell_type": "code",
   "execution_count": 30,
   "metadata": {},
   "outputs": [],
   "source": [
    "import pandas as pd\n",
    "import numpy as np\n",
    "import matplotlib.pyplot as plt\n",
    "%matplotlib inline\n",
    "import seaborn as sns\n",
    "import pandas_profiling as pp\n",
    "from datetime import datetime\n",
    "import os\n",
    "from sklearn.ensemble import RandomForestClassifier\n",
    "from sklearn.dummy import DummyClassifier\n",
    "from sklearn.dummy import DummyRegressor\n",
    "from sklearn.linear_model import LogisticRegression\n",
    "from sklearn.model_selection import StratifiedKFold\n",
    "from sklearn.model_selection import KFold\n",
    "from sklearn.model_selection import ShuffleSplit\n",
    "from sklearn.model_selection import cross_val_score\n",
    "from sklearn.model_selection import GridSearchCV\n",
    "from sklearn.metrics import log_loss\n",
    "import eli5\n",
    "from eli5.sklearn import PermutationImportance\n",
    "\n",
    "import scikitplot as skplt\n",
    "from sklearn.decomposition import PCA\n",
    "\n",
    "sns.set_style('whitegrid')\n",
    "pd.set_option('display.max_columns', None) # display all columns\n",
    "\n",
    "import warnings\n",
    "warnings.filterwarnings('ignore')\n",
    "\n",
    "import pandas as pd\n",
    "import glob"
   ]
  },
  {
   "cell_type": "markdown",
   "metadata": {},
   "source": [
    "## Loading datasets\n",
    "#### read dataset, define delimiter, dtypes and encoding"
   ]
  },
  {
   "cell_type": "code",
   "execution_count": 6,
   "metadata": {},
   "outputs": [
    {
     "name": "stdout",
     "output_type": "stream",
     "text": [
      "total 5602420\r\n",
      "-rw-rw-r-- 1 jovyan 1000 325753335 Oct 24 09:30 a_20191003.csv\r\n",
      "-rw-rw-r-- 1 jovyan 1000 325847319 Oct 24 09:30 a_20191004.csv\r\n",
      "-rw-rw-r-- 1 jovyan 1000 204579499 Oct 24 09:31 a_20191005.csv\r\n",
      "-rw-rw-r-- 1 jovyan 1000 156022232 Oct 24 09:31 a_20191006.csv\r\n",
      "-rw-rw-r-- 1 jovyan 1000 345785736 Oct 24 09:31 a_20191007.csv\r\n",
      "-rw-rw-r-- 1 jovyan 1000 411527423 Oct 24 09:32 a_20191008.csv\r\n",
      "-rw-rw-r-- 1 jovyan 1000 397576102 Oct 24 09:32 a_20191009.csv\r\n",
      "-rw-rw-r-- 1 jovyan 1000 398615603 Oct 24 09:33 a_20191010.csv\r\n",
      "-rw-rw-r-- 1 jovyan 1000 387487250 Oct 24 09:34 a_20191011.csv\r\n",
      "-rw-rw-r-- 1 jovyan 1000 250963109 Oct 24 09:34 a_20191012.csv\r\n",
      "-rw-rw-r-- 1 jovyan 1000 190969537 Oct 24 09:34 a_20191013.csv\r\n",
      "-rw-rw-r-- 1 jovyan 1000 374611350 Oct 24 09:35 a_20191014.csv\r\n",
      "-rw-rw-r-- 1 jovyan 1000 390035144 Oct 24 09:35 a_20191015.csv\r\n",
      "-rw-rw-r-- 1 jovyan 1000 393187960 Oct 24 09:36 a_20191016.csv\r\n",
      "-rw-rw-r-- 1 jovyan 1000 411435843 Oct 24 09:36 a_20191017.csv\r\n",
      "-rw-rw-r-- 1 jovyan 1000 367993973 Oct 24 09:37 a_20191018.csv\r\n",
      "-rw-rw-r-- 1 jovyan 1000 226785817 Oct 24 09:37 a_20191019.csv\r\n",
      "-rw-rw-r-- 1 jovyan 1000 177605172 Oct 24 09:37 a_20191020.csv\r\n"
     ]
    }
   ],
   "source": [
    "!ls -l ../data/dataset/A_DB_NRJ/"
   ]
  },
  {
   "cell_type": "code",
   "execution_count": 11,
   "metadata": {},
   "outputs": [
    {
     "name": "stdout",
     "output_type": "stream",
     "text": [
      "id,googleId,hotjarId,url,dateHour,UserAgent,Latitude,Longitude,orientationAlpha,orientationBeta,orientationGamma,accelerationX,accelerationY,accelerationZ,accelerationInclGravityX,accelerationInclGravityY,accelerationInclGravityZ,rotationX,rotationY,rotationZ,Key_IP\r",
      "\r\n",
      "51,GA1.2.1038314019.1568022293,97873fbc-903f-478b-919a-78692a067a62,/,2019100301,\"Mozilla/5.0 (Windows NT 10.0; Win64; x64) AppleWebKit/537.36 (KHTML, like Gecko) Chrome/70.0.3538.102 Safari/537.36 Edge/18.18362\",0.0,0.0,,,,,,,,,,,,,431990.0\r",
      "\r\n",
      "52,GA1.2.181350270.1569184566,cd64887c-afa5-442d-96ef-64e49f90bdf7,/radioplayer,2019100301,\"Mozilla/5.0 (iPhone; CPU iPhone OS 12_4_1 like Mac OS X) AppleWebKit/605.1.15 (KHTML, like Gecko) Version/12.1.2 Mobile/15E148 Safari/604.1\",50.47480545775913,3.9303634220572095,,,,,,,,,,,,,415712.0\r",
      "\r\n",
      "53,GA1.2.181350270.1569184566,cd64887c-afa5-442d-96ef-64e49f90bdf7,/radioplayer,2019100301,\"Mozilla/5.0 (iPhone; CPU iPhone OS 12_4_1 like Mac OS X) AppleWebKit/605.1.15 (KHTML, like Gecko) Version/12.1.2 Mobile/15E148 Safari/604.1\",50.47480545775913,3.9303634220572095,,,,,,,,,,,,,415712.0\r",
      "\r\n",
      "54,GA1.2.885844039.1549550556,723eba48-5bf1-4ef0-af4b-c92036044c41,/radioplayer,2019100301,\"Mozilla/5.0 (Windows NT 6.3; Win64; x64) AppleWebKit/537.36 (KHTML, like Gecko) Chrome/77.0.3865.90 Safari/537.36\",0.0,0.0,0.0,0.0,0.0,,,,,,,,,,449294.0\r",
      "\r\n"
     ]
    }
   ],
   "source": [
    "# view top 5 lines from raw file\n",
    "!head -n 5 ../data/dataset/A_DB_NRJ/a_20191003.csv"
   ]
  },
  {
   "cell_type": "code",
   "execution_count": 41,
   "metadata": {},
   "outputs": [],
   "source": [
    "directory_names = [\"A_DB_NRJ\", \"A_Logs_Podcasts\", \"A_NRJ_Premium\", \"Google_Analytics\"]\n",
    "for dirk in directory_names:\n",
    "    path = r'../data/dataset/'+dirk # use your path\n",
    "    all_files = glob.glob(path + \"/*.csv\")\n",
    "    li = []\n",
    "\n",
    "    for filename in all_files:\n",
    "        df = pd.read_csv(filename)\n",
    "        li.append(df)\n",
    "\n",
    "    df = pd.concat(li, axis=0, ignore_index=True)\n",
    "    pp.ProfileReport(df.sample(2500)).to_file('../data/report/'+dirk+'.html')"
   ]
  },
  {
   "cell_type": "code",
   "execution_count": null,
   "metadata": {},
   "outputs": [],
   "source": [
    "# advanced way for df.describe()\n",
    "pp.ProfileReport(df.sample(5000)).to_file('../data/report/A_DB_NRJ.html')"
   ]
  },
  {
   "cell_type": "code",
   "execution_count": null,
   "metadata": {},
   "outputs": [],
   "source": [
    "# df = pd.read_csv('../data/dataset/A_DB_NRJ/a_20191003.csv',\n",
    "#                  delimiter = ',',\n",
    "#                  encoding='utf-8',\n",
    "#                  dtype={\"id\":\"str\",\n",
    "#                         \"game_id\":\"str\"})"
   ]
  },
  {
   "cell_type": "markdown",
   "metadata": {},
   "source": [
    "## Summarize data"
   ]
  },
  {
   "cell_type": "code",
   "execution_count": 39,
   "metadata": {},
   "outputs": [],
   "source": [
    "# advanced way for df.describe()\n",
    "# sampling 1% for a report\n",
    "pp.ProfileReport(df.sample(1000)).to_file('../data/report/a_20191003.html')"
   ]
  },
  {
   "cell_type": "code",
   "execution_count": null,
   "metadata": {},
   "outputs": [],
   "source": []
  },
  {
   "cell_type": "code",
   "execution_count": null,
   "metadata": {},
   "outputs": [],
   "source": []
  },
  {
   "cell_type": "code",
   "execution_count": null,
   "metadata": {},
   "outputs": [],
   "source": []
  },
  {
   "cell_type": "code",
   "execution_count": null,
   "metadata": {},
   "outputs": [],
   "source": []
  },
  {
   "cell_type": "code",
   "execution_count": null,
   "metadata": {},
   "outputs": [],
   "source": []
  },
  {
   "cell_type": "code",
   "execution_count": null,
   "metadata": {},
   "outputs": [],
   "source": []
  },
  {
   "cell_type": "code",
   "execution_count": null,
   "metadata": {},
   "outputs": [],
   "source": []
  },
  {
   "cell_type": "code",
   "execution_count": null,
   "metadata": {},
   "outputs": [],
   "source": []
  },
  {
   "cell_type": "code",
   "execution_count": null,
   "metadata": {},
   "outputs": [],
   "source": []
  }
 ],
 "metadata": {
  "kernelspec": {
   "display_name": "Python 3",
   "language": "python",
   "name": "python3"
  },
  "language_info": {
   "codemirror_mode": {
    "name": "ipython",
    "version": 3
   },
   "file_extension": ".py",
   "mimetype": "text/x-python",
   "name": "python",
   "nbconvert_exporter": "python",
   "pygments_lexer": "ipython3",
   "version": "3.7.3"
  }
 },
 "nbformat": 4,
 "nbformat_minor": 2
}
