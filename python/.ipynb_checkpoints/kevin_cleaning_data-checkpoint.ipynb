{
 "cells": [
  {
   "cell_type": "code",
   "execution_count": 75,
   "metadata": {},
   "outputs": [],
   "source": [
    "import pandas_profiling as pp\n",
    "import pandas as pd\n",
    "import numpy as np\n",
    "from tqdm import tqdm\n",
    "\n",
    "import seaborn as sns\n",
    "from matplotlib import pyplot as plt\n",
    "%matplotlib inline\n",
    "\n",
    "sns.set_style('whitegrid')\n",
    "pd.set_option('display.max_columns', None) # display all columns\n",
    "\n",
    "import warnings\n",
    "warnings.filterwarnings('ignore')\n",
    "import glob\n",
    "import re"
   ]
  },
  {
   "cell_type": "code",
   "execution_count": 76,
   "metadata": {},
   "outputs": [],
   "source": [
    "path = r'../data/dataset/Google_Analytics' # use your path\n",
    "all_files = glob.glob(path + \"/*.csv\")\n",
    "li = []\n",
    "\n",
    "for filename in all_files:\n",
    "    df = pd.read_csv(filename,\n",
    "                     delimiter = ',',\n",
    "                     encoding='utf-8',\n",
    "                     dtype={\"ga:clientId\":\"str\",\n",
    "                            \"ga:pagepath\":\"str\",\n",
    "                            \"ga:dateHourMinute\":\"str\",\n",
    "                            \"ga:latitude\":\"float\",\n",
    "                            \"ga:longitude\":\"float\",\n",
    "                            \"ga:sourceMedium\":\"str\",\n",
    "                            \"ga:timeOnPage\":\"int\"}\n",
    "                            )\n",
    "    li.append(df)\n",
    "\n",
    "df = pd.concat(li, axis=0, ignore_index=True)"
   ]
  },
  {
   "cell_type": "code",
   "execution_count": 88,
   "metadata": {},
   "outputs": [
    {
     "name": "stdout",
     "output_type": "stream",
     "text": [
      "<class 'pandas.core.frame.DataFrame'>\n",
      "Int64Index: 218404 entries, 4 to 295801\n",
      "Data columns (total 7 columns):\n",
      "ga:clientId          218404 non-null object\n",
      "ga:pagepath          218404 non-null bool\n",
      "ga:dateHourMinute    218404 non-null datetime64[ns]\n",
      "ga:latitude          218404 non-null float64\n",
      "ga:longitude         218404 non-null float64\n",
      "ga:sourceMedium      218404 non-null category\n",
      "ga:timeOnPage        218404 non-null int64\n",
      "dtypes: bool(1), category(1), datetime64[ns](1), float64(2), int64(1), object(1)\n",
      "memory usage: 10.4+ MB\n"
     ]
    }
   ],
   "source": [
    "df.info()"
   ]
  },
  {
   "cell_type": "code",
   "execution_count": 78,
   "metadata": {},
   "outputs": [],
   "source": [
    "# change to datetime format\n",
    "df[\"ga:dateHourMinute\"] = pd.to_datetime(df[\"ga:dateHourMinute\"], format=\"%Y%m%d%H%M\")"
   ]
  },
  {
   "cell_type": "code",
   "execution_count": 79,
   "metadata": {},
   "outputs": [],
   "source": [
    "# only keep inside Belgium and remove zeros\n",
    "df = df[(df[\"ga:latitude\"] >= 49.398182) & (df[\"ga:latitude\"] <= 51.824562) ]\n",
    "df = df[(df[\"ga:longitude\"] >= 2.120257) & (df[\"ga:longitude\"] <= 6.398146) ]"
   ]
  },
  {
   "cell_type": "code",
   "execution_count": null,
   "metadata": {},
   "outputs": [],
   "source": []
  },
  {
   "cell_type": "code",
   "execution_count": 80,
   "metadata": {},
   "outputs": [
    {
     "data": {
      "text/plain": [
       "6172"
      ]
     },
     "execution_count": 80,
     "metadata": {},
     "output_type": "execute_result"
    }
   ],
   "source": [
    "df[\"ga:pagepath\"].nunique()"
   ]
  },
  {
   "cell_type": "code",
   "execution_count": 81,
   "metadata": {},
   "outputs": [],
   "source": [
    "x = []\n",
    "for i in df[\"ga:pagepath\"]:\n",
    "    if re.search(\"article\", i):\n",
    "        x.append(\"static\")\n",
    "    elif re.search(\"player\", i):\n",
    "        x.append(\"live\")\n",
    "    elif re.search(\"replay\", i):\n",
    "        x.append(\"live\")\n",
    "    elif re.search(\"radio\", i):\n",
    "        x.append(\"live\")\n",
    "    elif re.search(\"boost\", i):\n",
    "        x.append(\"static\")\n",
    "    elif re.search(\"/index\", i):\n",
    "        x.append(\"static\")\n",
    "    elif re.search(\"/classements\", i):\n",
    "        x.append(\"static\")\n",
    "    elif re.search(\"grille\", i):\n",
    "        x.append(\"static\")\n",
    "    elif re.search(\"emission\", i):\n",
    "        x.append(\"static\")\n",
    "    elif re.search(\"frequen\", i):\n",
    "        x.append(\"static\")\n",
    "    else:\n",
    "        x.append(\"static\")\n",
    "#print(x)\n",
    "df[\"ga:pagepath\"] = x"
   ]
  },
  {
   "cell_type": "code",
   "execution_count": 82,
   "metadata": {},
   "outputs": [
    {
     "name": "stdout",
     "output_type": "stream",
     "text": [
      "static\n",
      "live\n"
     ]
    }
   ],
   "source": [
    "for i in df[\"ga:pagepath\"].unique():\n",
    "    print(i)"
   ]
  },
  {
   "cell_type": "code",
   "execution_count": 83,
   "metadata": {},
   "outputs": [],
   "source": [
    "df = df.astype({'ga:pagepath':'bool'})"
   ]
  },
  {
   "cell_type": "code",
   "execution_count": 84,
   "metadata": {},
   "outputs": [
    {
     "data": {
      "text/plain": [
       "152"
      ]
     },
     "execution_count": 84,
     "metadata": {},
     "output_type": "execute_result"
    }
   ],
   "source": [
    "df[\"ga:sourceMedium\"].nunique()"
   ]
  },
  {
   "cell_type": "code",
   "execution_count": 85,
   "metadata": {},
   "outputs": [],
   "source": [
    "x = []\n",
    "for i in df[\"ga:sourceMedium\"]:\n",
    "    if re.search(\"faceb\", i):\n",
    "        x.append(\"referral\")\n",
    "    elif re.search(\"googl\", i):\n",
    "        x.append(\"google\")\n",
    "    elif re.search(\"direct\", i):\n",
    "        x.append(\"direct\")\n",
    "    elif re.search(\"referral\", i):\n",
    "        x.append(\"referral\")\n",
    "    elif re.search(\"organic\", i):\n",
    "        x.append(\"google\")\n",
    "    else:\n",
    "        x.append(\"google\")\n",
    "#print(x)\n",
    "df[\"ga:sourceMedium\"] = x"
   ]
  },
  {
   "cell_type": "code",
   "execution_count": 86,
   "metadata": {},
   "outputs": [
    {
     "data": {
      "text/plain": [
       "array(['referral', 'google', 'direct'], dtype=object)"
      ]
     },
     "execution_count": 86,
     "metadata": {},
     "output_type": "execute_result"
    }
   ],
   "source": [
    "df[\"ga:sourceMedium\"].unique()"
   ]
  },
  {
   "cell_type": "code",
   "execution_count": 87,
   "metadata": {},
   "outputs": [],
   "source": [
    "df = df.astype({'ga:sourceMedium':'category'})"
   ]
  },
  {
   "cell_type": "code",
   "execution_count": 89,
   "metadata": {},
   "outputs": [],
   "source": [
    "df.to_csv(\"../data/dataset/clean_google_analytics.csv\", index=False)"
   ]
  },
  {
   "cell_type": "code",
   "execution_count": 91,
   "metadata": {},
   "outputs": [],
   "source": [
    "pp.ProfileReport(df).to_file('../data/report/cleaned_google_analytics-full.html')"
   ]
  },
  {
   "cell_type": "code",
   "execution_count": 90,
   "metadata": {},
   "outputs": [],
   "source": [
    "#pp.ProfileReport(df.sample(2500)).to_file('../data/report/cleaned_google_analytics.html')"
   ]
  }
 ],
 "metadata": {
  "kernelspec": {
   "display_name": "Python 3",
   "language": "python",
   "name": "python3"
  },
  "language_info": {
   "codemirror_mode": {
    "name": "ipython",
    "version": 3
   },
   "file_extension": ".py",
   "mimetype": "text/x-python",
   "name": "python",
   "nbconvert_exporter": "python",
   "pygments_lexer": "ipython3",
   "version": "3.7.3"
  }
 },
 "nbformat": 4,
 "nbformat_minor": 2
}
