{
 "cells": [
  {
   "cell_type": "code",
   "execution_count": 2,
   "metadata": {},
   "outputs": [],
   "source": [
    "from py2neo import Graph"
   ]
  },
  {
   "cell_type": "code",
   "execution_count": 3,
   "metadata": {},
   "outputs": [],
   "source": [
    "import pandas as pd"
   ]
  },
  {
   "cell_type": "markdown",
   "metadata": {},
   "source": [
    "## cleaning a bit"
   ]
  },
  {
   "cell_type": "code",
   "execution_count": 22,
   "metadata": {},
   "outputs": [],
   "source": [
    "df = pd.read_csv(\"../data/dataset/merged_and_deduplicated_1_and_2.csv\")"
   ]
  },
  {
   "cell_type": "code",
   "execution_count": 26,
   "metadata": {},
   "outputs": [
    {
     "name": "stdout",
     "output_type": "stream",
     "text": [
      "<class 'pandas.core.frame.DataFrame'>\n",
      "RangeIndex: 2397731 entries, 0 to 2397730\n",
      "Data columns (total 12 columns):\n",
      "clientId          float64\n",
      "pagepath          bool\n",
      "dateHourMinute    object\n",
      "latitude          float64\n",
      "longitude         float64\n",
      "sourceMedium      object\n",
      "ga:timeOnPage     int64\n",
      "googleId          float64\n",
      "hotjarId          object\n",
      "dateHour          object\n",
      "moved_mobile      bool\n",
      "Key_IP            int64\n",
      "dtypes: bool(2), float64(4), int64(2), object(4)\n",
      "memory usage: 187.5+ MB\n"
     ]
    }
   ],
   "source": [
    "df.info()"
   ]
  },
  {
   "cell_type": "code",
   "execution_count": 24,
   "metadata": {},
   "outputs": [],
   "source": [
    "# rename\n",
    "df.rename(columns={'ga:clientId': 'clientId',\n",
    "                   'ga:pagepath': 'pagepath',\n",
    "                   'ga:dateHourMinute': 'dateHourMinute',\n",
    "                   'ga:latitude': 'latitude',\n",
    "                   'ga:longitude': 'longitude',\n",
    "                   'ga:sourceMedium': 'sourceMedium',\n",
    "                   'ga:timeOnPage': 'timeOnPageMinutes'}, inplace=True)"
   ]
  },
  {
   "cell_type": "code",
   "execution_count": null,
   "metadata": {},
   "outputs": [],
   "source": [
    "# clean some features double and similar\n",
    "df.drop(['clientId', 'pagepath'], axis=1, inplace=True)"
   ]
  },
  {
   "cell_type": "code",
   "execution_count": 25,
   "metadata": {},
   "outputs": [],
   "source": [
    "df.to_csv(\"../neo4j/import/dataset.csv\", index=False)"
   ]
  },
  {
   "cell_type": "markdown",
   "metadata": {},
   "source": [
    "## starting DB loading"
   ]
  },
  {
   "cell_type": "code",
   "execution_count": 5,
   "metadata": {},
   "outputs": [],
   "source": [
    "neo_server = \"18.218.82.124\"\n",
    "user = \"neo4j\"\n",
    "passw = \"digityser\"\n",
    "file = \"../data/dataset/merged_and_deduplicated_1_and_2.csv\""
   ]
  },
  {
   "cell_type": "code",
   "execution_count": 6,
   "metadata": {},
   "outputs": [],
   "source": [
    "graph = Graph(host=neo_server, auth=(user, passw))"
   ]
  },
  {
   "cell_type": "code",
   "execution_count": 7,
   "metadata": {},
   "outputs": [],
   "source": [
    "# clean all data in DB\n",
    "graph.delete_all()"
   ]
  },
  {
   "cell_type": "code",
   "execution_count": 12,
   "metadata": {},
   "outputs": [
    {
     "name": "stdout",
     "output_type": "stream",
     "text": [
      "/home/jovyan/python\r\n"
     ]
    }
   ],
   "source": [
    "!pwd"
   ]
  },
  {
   "cell_type": "code",
   "execution_count": 11,
   "metadata": {},
   "outputs": [
    {
     "name": "stdout",
     "output_type": "stream",
     "text": [
      "ga:clientId,ga:pagepath,ga:dateHourMinute,ga:latitude,ga:longitude,ga:sourceMedium,ga:timeOnPage,googleId,hotjarId,dateHour,moved_mobile,Key_IP\r\n",
      "263142.1570819316,True,2019-10-11 20:41:00,50.8503,4.3517,referral,0,263142.1570819316,3bdd6cf1-fec0-4ade-ac16-4aa79bf3adf4,2019-10-11 18:00:00,True,559198\r\n"
     ]
    }
   ],
   "source": [
    "# move the csv file (389MB) into /import of DB, then check first 2 lines:\n",
    "#!cp ../data/dataset/merged_and_deduplicated_1_and_2.csv ../neo4j/import/dataset.csv\n",
    "!head -n 2 ../neo4j/import/dataset.csv"
   ]
  },
  {
   "cell_type": "markdown",
   "metadata": {},
   "source": [
    "## now we import the data itself"
   ]
  },
  {
   "cell_type": "code",
   "execution_count": 13,
   "metadata": {},
   "outputs": [],
   "source": [
    "query = \"\"\"\n",
    "LOAD CSV WITH HEADERS FROM 'file:///dataset.csv' AS line\n",
    "WITH line\n",
    "LIMIT 2\n",
    "RETURN line\n",
    "\"\"\""
   ]
  },
  {
   "cell_type": "code",
   "execution_count": 14,
   "metadata": {},
   "outputs": [],
   "source": [
    "data = graph.run(query)"
   ]
  },
  {
   "cell_type": "code",
   "execution_count": 15,
   "metadata": {},
   "outputs": [
    {
     "data": {
      "text/plain": [
       "<Record line={'googleId': '263142.1570819316', 'ga:timeOnPage': '0', 'Key_IP': '559198', 'dateHour': '2019-10-11 18:00:00', 'ga:latitude': '50.8503', 'ga:clientId': '263142.1570819316', 'moved_mobile': 'True', 'hotjarId': '3bdd6cf1-fec0-4ade-ac16-4aa79bf3adf4', 'ga:pagepath': 'True', 'ga:longitude': '4.3517', 'ga:sourceMedium': 'referral', 'ga:dateHourMinute': '2019-10-11 20:41:00'}>"
      ]
     },
     "execution_count": 15,
     "metadata": {},
     "output_type": "execute_result"
    }
   ],
   "source": [
    "next(data)"
   ]
  },
  {
   "cell_type": "code",
   "execution_count": null,
   "metadata": {},
   "outputs": [],
   "source": []
  },
  {
   "cell_type": "code",
   "execution_count": 19,
   "metadata": {},
   "outputs": [
    {
     "data": {
      "text/plain": [
       "<py2neo.database.Cursor at 0x7f99f5456f60>"
      ]
     },
     "execution_count": 19,
     "metadata": {},
     "output_type": "execute_result"
    }
   ],
   "source": [
    "query = \"\"\"\n",
    "CREATE CONSTRAINT ON (u: User) ASSERT (u.googleId) IS UNIQUE\n",
    "\"\"\"\n",
    "graph.run(query)"
   ]
  },
  {
   "cell_type": "code",
   "execution_count": 20,
   "metadata": {},
   "outputs": [
    {
     "data": {
      "text/plain": [
       "<py2neo.database.Cursor at 0x7f99f5092a20>"
      ]
     },
     "execution_count": 20,
     "metadata": {},
     "output_type": "execute_result"
    }
   ],
   "source": [
    "query = \"\"\"\n",
    "USING PERIODIC COMMIT 100\n",
    "LOAD CSV WITH HEADERS FROM 'file:///dataset.csv' AS line FIELDTERMINATOR ','\n",
    "MERGE (u: User {googleId: line.googleId})\n",
    "\"\"\"\n",
    "graph.run(query)"
   ]
  },
  {
   "cell_type": "code",
   "execution_count": null,
   "metadata": {},
   "outputs": [],
   "source": [
    "# maybe add some more features of the User\n",
    "query = \"\"\"\n",
    "USING PERIODIC COMMIT 100\n",
    "LOAD CSV WITH HEADERS FROM 'file:///dataset.csv' AS line FIELDTERMINATOR ','\n",
    "MERGE (u: User {latitude: line.googleId})\n",
    "\"\"\"\n",
    "graph.run(query)"
   ]
  },
  {
   "cell_type": "code",
   "execution_count": null,
   "metadata": {},
   "outputs": [],
   "source": []
  },
  {
   "cell_type": "code",
   "execution_count": null,
   "metadata": {},
   "outputs": [],
   "source": []
  }
 ],
 "metadata": {
  "kernelspec": {
   "display_name": "Python 3",
   "language": "python",
   "name": "python3"
  },
  "language_info": {
   "codemirror_mode": {
    "name": "ipython",
    "version": 3
   },
   "file_extension": ".py",
   "mimetype": "text/x-python",
   "name": "python",
   "nbconvert_exporter": "python",
   "pygments_lexer": "ipython3",
   "version": "3.7.3"
  }
 },
 "nbformat": 4,
 "nbformat_minor": 2
}
